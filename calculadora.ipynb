{
  "nbformat": 4,
  "nbformat_minor": 0,
  "metadata": {
    "colab": {
      "provenance": [],
      "authorship_tag": "ABX9TyNjDX04be9VrVZ1wJqtnTI0",
      "include_colab_link": true
    },
    "kernelspec": {
      "name": "python3",
      "display_name": "Python 3"
    },
    "language_info": {
      "name": "python"
    }
  },
  "cells": [
    {
      "cell_type": "markdown",
      "metadata": {
        "id": "view-in-github",
        "colab_type": "text"
      },
      "source": [
        "<a href=\"https://colab.research.google.com/github/MaxPamphil/python-Fundamentals/blob/main/calculadora.ipynb\" target=\"_parent\"><img src=\"https://colab.research.google.com/assets/colab-badge.svg\" alt=\"Open In Colab\"/></a>"
      ]
    },
    {
      "cell_type": "code",
      "execution_count": 21,
      "metadata": {
        "colab": {
          "base_uri": "https://localhost:8080/"
        },
        "id": "EogE3ElwymnW",
        "outputId": "09445f47-0cdf-4ddf-b62d-0ee675a34aa8"
      },
      "outputs": [
        {
          "output_type": "stream",
          "name": "stdout",
          "text": [
            "calculadora en Python\n",
            "Este desarrollo realizará las 4 operaciones matemáticas principales: suma, resta, multiplicación y división, entre dos números enteros\n",
            "indique la operación a realizar: Suma (S), Resta (R), Multiplicacion (M), División (D): D\n",
            "introduzca su primer número: 100\n",
            "introduzca su segundo número: 200\n",
            "0.5\n",
            "fin del programa\n"
          ]
        }
      ],
      "source": [
        "'''\n",
        "EXERCÍCIO PRÁTICO 1\n",
        "\n",
        "Desenvolva uma calculadora em Python que realize as quatro operações básicas (adição,\n",
        "subtração, multiplicação e divisão) entre dois números. A calculadora deve ser capaz de lidar com\n",
        "diversos tipos de erros de entrada e operação. Siga as especificações abaixo:\n",
        "1. A calculadora deve solicitar ao usuário que insira dois números e uma operação.\n",
        "2. As operações válidas são: + (adição), - (subtração), * (multiplicação) e / (divisão).\n",
        "3. O programa deve continuar solicitando entradas até que uma operação válida seja\n",
        "concluída.\n",
        "4. Trate os seguintes erros:\n",
        "⚬ Entrada inválida (não numérica) para os números\n",
        "⚬ Divisão por zero\n",
        "⚬ Operação inválida\n",
        "5. Use try/except para capturar e tratar os erros apropriadamente.\n",
        "6. Após cada erro, o programa deve informar o usuário sobre o erro e solicitar nova entrada.\n",
        "7. Quando uma operação é concluída com sucesso, exiba o resultado e encerre o programa.\n",
        "'''\n",
        "print(\"calculadora en Python\")\n",
        "print(\"Este desarrollo realizará las 4 operaciones matemáticas principales: suma, resta, multiplicación y división, entre dos números enteros\")\n",
        "opeArit = input(\"indique la operación a realizar: Suma (S), Resta (R), Multiplicacion (M), División (D): \")\n",
        "\n",
        "\n",
        "try:\n",
        "  num1=int(input(\"introduzca su primer número: \"))\n",
        "  num2=int(input(\"introduzca su segundo número: \"))\n",
        "  if opeArit == \"S\":\n",
        "    print(num1+num2)\n",
        "  elif opeArit == \"R\":\n",
        "    print(num1-num2)\n",
        "  elif opeArit == \"M\":\n",
        "    print(num1*num2)\n",
        "  elif opeArit == \"D\":\n",
        "    print(num1/num2)\n",
        "  else:\n",
        "    print(\"error, operación invalida\")\n",
        "except ZeroDivisionError:\n",
        "    print(\"error, no es posible dividir entre cero\")\n",
        "except ValueError:\n",
        "    print(\"error, entrada invalida\")\n",
        "print(\"fin del programa\")\n",
        "\n",
        "\n",
        "\n",
        "\n"
      ]
    }
  ]
}