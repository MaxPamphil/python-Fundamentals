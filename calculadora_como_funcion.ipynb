{
  "nbformat": 4,
  "nbformat_minor": 0,
  "metadata": {
    "colab": {
      "provenance": [],
      "authorship_tag": "ABX9TyMaUBy+GjHgkZtt5VZKM/s7",
      "include_colab_link": true
    },
    "kernelspec": {
      "name": "python3",
      "display_name": "Python 3"
    },
    "language_info": {
      "name": "python"
    }
  },
  "cells": [
    {
      "cell_type": "markdown",
      "metadata": {
        "id": "view-in-github",
        "colab_type": "text"
      },
      "source": [
        "<a href=\"https://colab.research.google.com/github/MaxPamphil/python-Fundamentals/blob/main/calculadora_como_funcion.ipynb\" target=\"_parent\"><img src=\"https://colab.research.google.com/assets/colab-badge.svg\" alt=\"Open In Colab\"/></a>"
      ]
    },
    {
      "cell_type": "code",
      "execution_count": 2,
      "metadata": {
        "colab": {
          "base_uri": "https://localhost:8080/"
        },
        "id": "-EaDT6dpaL3r",
        "outputId": "6b87a6b9-f5d7-412f-8770-5ba12e0be82b"
      },
      "outputs": [
        {
          "output_type": "stream",
          "name": "stdout",
          "text": [
            "Insira o primeiro número: 100\n",
            "Insira o segundo número: 0\n",
            "Insira a operação (+, -, *, /): /\n",
            "Erro: Divisão por zero não é permitida.\n",
            "Insira o primeiro número: lkj\n",
            "could not convert string to float: 'lkj'\n",
            "Insira o primeiro número: 100\n",
            "Insira o segundo número: 548\n",
            "Insira a operação (+, -, *, /): /\n",
            "O resultado de 100.0 / 548.0 é: 0.18248175182481752\n"
          ]
        }
      ],
      "source": [
        "def calculadora():\n",
        "    while True:\n",
        "        try:\n",
        "            # Solicita ao usuário os números e a operação\n",
        "            num1 = float(input(\"Insira o primeiro número: \"))\n",
        "            num2 = float(input(\"Insira o segundo número: \"))\n",
        "            operacao = input(\"Insira a operação (+, -, *, /): \")\n",
        "\n",
        "            # Realiza a operação com base na entrada\n",
        "            if operacao == '+':\n",
        "                resultado = num1 + num2\n",
        "            elif operacao == '-':\n",
        "                resultado = num1 - num2\n",
        "            elif operacao == '*':\n",
        "                resultado = num1 * num2\n",
        "            elif operacao == '/':\n",
        "                # Trata a divisão por zero\n",
        "                if num2 == 0:\n",
        "                    raise ZeroDivisionError(\"Erro: Divisão por zero não é permitida.\")\n",
        "                resultado = num1 / num2\n",
        "            else:\n",
        "                raise ValueError(\"Erro: Operação inválida. Utilize +, -, * ou /.\")\n",
        "\n",
        "            # Se a operação for bem-sucedida, exibe o resultado e encerra o programa\n",
        "            print(f\"O resultado de {num1} {operacao} {num2} é: {resultado}\")\n",
        "            break  # Encerra o loop após uma operação bem-sucedida\n",
        "\n",
        "        except ValueError as e:\n",
        "            print(e)  # Trata entrada inválida e operações inválidas\n",
        "        except ZeroDivisionError as e:\n",
        "            print(e)  # Trata divisão por zero\n",
        "\n",
        "# Chama a função da calculadora\n",
        "calculadora()"
      ]
    }
  ]
}